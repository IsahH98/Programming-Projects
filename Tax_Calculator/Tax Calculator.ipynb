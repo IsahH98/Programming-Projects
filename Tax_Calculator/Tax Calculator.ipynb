{
 "cells": [
  {
   "cell_type": "code",
   "execution_count": 9,
   "id": "910cab68",
   "metadata": {},
   "outputs": [],
   "source": [
    "import tkinter as tk"
   ]
  },
  {
   "cell_type": "code",
   "execution_count": 10,
   "id": "c2b9bac3",
   "metadata": {},
   "outputs": [],
   "source": [
    "# Function to calculate UK income tax and National Insurance\n",
    "def calculate_tax():\n",
    "    try:\n",
    "        income = float(income_entry.get())\n",
    "        tax_year = int(tax_year_entry.get())\n",
    "        ni_rate = 0.0\n",
    "        tax_year = 2023  # Replace with your desired 4-digit tax year\n",
    "\n",
    "        if tax_year == 2022:\n",
    "            personal_allowance = 12570\n",
    "            basic_rate_threshold = 50270\n",
    "            higher_rate_threshold = 150000\n",
    "            ni_threshold = 9568\n",
    "            ni_rate = 0.12\n",
    "\n",
    "        # Replace the values with corresponding values for the desired tax year\n",
    "        elif tax_year == 2023:\n",
    "            personal_allowance = 12950\n",
    "            basic_rate_threshold = 50950\n",
    "            higher_rate_threshold = 151000\n",
    "            ni_threshold = 9750\n",
    "            ni_rate = 0.13\n",
    "        \n",
    "        elif tax_year == 2021:\n",
    "            personal_allowance = 12500\n",
    "            basic_rate_threshold = 50000\n",
    "            higher_rate_threshold = 150000\n",
    "            ni_threshold = 9500\n",
    "            ni_rate = 0.12\n",
    "\n",
    "        # Add more elif conditions for other tax years if needed\n",
    "\n",
    "        else:\n",
    "            # Default values in case the tax year is not specified\n",
    "            personal_allowance = 0\n",
    "            basic_rate_threshold = 0\n",
    "            higher_rate_threshold = 0\n",
    "            ni_threshold = 0\n",
    "            ni_rate = 0.0\n",
    "\n",
    "        if income <= personal_allowance:\n",
    "            tax = 0\n",
    "        elif income <= basic_rate_threshold:\n",
    "            tax = (income - personal_allowance) * 0.20\n",
    "        elif income <= higher_rate_threshold:\n",
    "            basic_rate_tax = (basic_rate_threshold - personal_allowance) * 0.20\n",
    "            higher_rate_tax = (income - basic_rate_threshold) * 0.40\n",
    "            tax = basic_rate_tax + higher_rate_tax\n",
    "        else:\n",
    "            basic_rate_tax = (basic_rate_threshold - personal_allowance) * 0.20\n",
    "            higher_rate_tax = (higher_rate_threshold - basic_rate_threshold) * 0.40\n",
    "            additional_rate_tax = (income - higher_rate_threshold) * 0.45\n",
    "            tax = basic_rate_tax + higher_rate_tax + additional_rate_tax\n",
    "\n",
    "        ni = max(0, (income - ni_threshold) * ni_rate)\n",
    "        total_tax = tax + ni\n",
    "\n",
    "        # Clear the result label\n",
    "        result_label.config(text=\"\")\n",
    "\n",
    "        # Display the tax calculation results\n",
    "        result_label.config(text=f\"Income Tax: £{tax:.2f}\\nNational Insurance: £{ni:.2f}\\nTotal Tax: £{total_tax:.2f}\")\n",
    "\n",
    "        # Calculate the percentage of yearly salary compared to the gross pay\n",
    "        percentage = (income / (income - tax)) * 100 if income != 0 else 0\n",
    "\n",
    "        # Calculate the total tax due\n",
    "        total_tax_due = total_tax * 12 if income != 0 else 0\n",
    "\n",
    "        # Calculate the next wage\n",
    "        next_wage = income - total_tax\n",
    "\n",
    "        # Create the grid\n",
    "        grid_labels = [\n",
    "            [\"Pay Summary\", \"Yearly\", \"Monthly\", \"Weekly\"],\n",
    "            [\"Gross Pay\", f\"{income:.2f}\", f\"{income/12:.2f}\", f\"{income/52:.2f}\"],\n",
    "            [\"Tax-Free Allowance\", f\"{personal_allowance:.2f}\", f\"{personal_allowance/12:.2f}\", f\"{personal_allowance/52:.2f}\"],\n",
    "            [\"Total Taxable\", f\"{income-personal_allowance:.2f}\", f\"{(income-personal_allowance)/12:.2f}\", f\"{(income-personal_allowance)/52:.2f}\"],\n",
    "            [\"Total Tax Due\", f\"{total_tax_due:.2f}\", f\"{total_tax_due/12:.2f}\", f\"{total_tax_due/52:.2f}\"],\n",
    "            [\"Next Wage\", f\"{next_wage:.2f}\", f\"{next_wage/12:.2f}\", f\"{next_wage/52:.2f}\"],\n",
    "        ]\n",
    "\n",
    "        # Display the grid labels\n",
    "        for row in range(len(grid_labels)):\n",
    "            for col in range(len(grid_labels[row])):\n",
    "                label = tk.Label(window, text=str(grid_labels[row][col]), relief=tk.RIDGE)\n",
    "                label.grid(row=row+6, column=col, padx=5, pady=5)\n",
    "\n",
    "    except ValueError:\n",
    "        result_label.config(text=\"Please enter valid numeric values for income and tax year.\")"
   ]
  },
  {
   "cell_type": "code",
   "execution_count": 11,
   "id": "a9d64a25",
   "metadata": {},
   "outputs": [],
   "source": [
    "# Create the main window\n",
    "window = tk.Tk()\n",
    "window.title(\"UK Tax Calculator\")\n",
    "\n",
    "# Create introduction label\n",
    "intro_label = tk.Label(window, text=\"Welcome to the UK Tax Calculator!\")\n",
    "intro_label.grid(row=0, columnspan=4, padx=5, pady=5)"
   ]
  },
  {
   "cell_type": "code",
   "execution_count": 12,
   "id": "9fa23ffc",
   "metadata": {},
   "outputs": [],
   "source": [
    "# Create labels and entry fields\n",
    "income_label = tk.Label(window, text=\"Income:\")\n",
    "income_label.grid(row=1, column=0, padx=5, pady=5)\n",
    "income_entry = tk.Entry(window)\n",
    "income_entry.grid(row=1, column=1, padx=5, pady=5)\n",
    "\n",
    "tax_year_label = tk.Label(window, text=\"Tax Year (e.g., 2022):\")\n",
    "tax_year_label.grid(row=2, column=0, padx=5, pady=5)\n",
    "tax_year_entry = tk.Entry(window)\n",
    "tax_year_entry.grid(row=2, column=1, padx=5, pady=5)\n"
   ]
  },
  {
   "cell_type": "code",
   "execution_count": 13,
   "id": "f7d36116",
   "metadata": {},
   "outputs": [],
   "source": [
    "# Create the calculate button\n",
    "calculate_button = tk.Button(window, text=\"Calculate\", command=calculate_tax)\n",
    "calculate_button.grid(row=3, columnspan=4, padx=5, pady=5)"
   ]
  },
  {
   "cell_type": "code",
   "execution_count": 14,
   "id": "57b61930",
   "metadata": {},
   "outputs": [],
   "source": [
    "# Create the result label\n",
    "result_label = tk.Label(window, text=\"\")\n",
    "result_label.grid(row=4, columnspan=4, padx=5, pady=5)"
   ]
  },
  {
   "cell_type": "code",
   "execution_count": 15,
   "id": "104280fd",
   "metadata": {},
   "outputs": [],
   "source": [
    "# Start the GUI event loop\n",
    "window.mainloop()"
   ]
  }
 ],
 "metadata": {
  "kernelspec": {
   "display_name": "Python 3 (ipykernel)",
   "language": "python",
   "name": "python3"
  },
  "language_info": {
   "codemirror_mode": {
    "name": "ipython",
    "version": 3
   },
   "file_extension": ".py",
   "mimetype": "text/x-python",
   "name": "python",
   "nbconvert_exporter": "python",
   "pygments_lexer": "ipython3",
   "version": "3.9.13"
  }
 },
 "nbformat": 4,
 "nbformat_minor": 5
}
