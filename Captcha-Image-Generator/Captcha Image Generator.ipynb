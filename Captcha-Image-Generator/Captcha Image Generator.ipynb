{
 "cells": [
  {
   "cell_type": "markdown",
   "id": "edfa867e",
   "metadata": {},
   "source": [
    "# Captcha Image Generator Project \n",
    "\n",
    "When running this code an imiage should"
   ]
  },
  {
   "cell_type": "code",
   "execution_count": 36,
   "id": "42c6778d",
   "metadata": {},
   "outputs": [],
   "source": [
    "from captcha.image import ImageCaptcha\n",
    "import random\n",
    "import tkinter as tk\n",
    "from PIL import ImageTk, Image"
   ]
  },
  {
   "cell_type": "code",
   "execution_count": 37,
   "id": "3d39f605",
   "metadata": {},
   "outputs": [],
   "source": [
    "def generate_captcha():\n",
    "    # Generate a random sequence of letters and numbers\n",
    "    captcha_text = ''.join(random.choices('abcdefghijklmnopqrstuvwxyzABCDEFGHIJKLMNOPQRSTUVWXYZ0123456789', k=6))\n",
    "\n",
    "    # Create an ImageCaptcha object\n",
    "    captcha = ImageCaptcha(width=200, height=80)\n",
    "\n",
    "    # Generate the CAPTCHA image\n",
    "    captcha_image = captcha.generate(captcha_text)\n",
    "\n",
    "    # Save the image to a file\n",
    "    image_path = 'captcha.png'\n",
    "    with open(image_path, 'wb') as f:\n",
    "        captcha.write(captcha_text, f)\n",
    "\n",
    "    # Return the CAPTCHA text and image path\n",
    "    return captcha_text, image_path"
   ]
  },
  {
   "cell_type": "code",
   "execution_count": 38,
   "id": "dc6c18bd",
   "metadata": {},
   "outputs": [],
   "source": [
    "def check_captcha():\n",
    "    entered_text = entry.get()\n",
    "    if entered_text == captcha_text:\n",
    "        result_label.config(text=\"CAPTCHA is correct!\")\n",
    "    else:\n",
    "        result_label.config(text=\"CAPTCHA is incorrect!\")"
   ]
  },
  {
   "cell_type": "code",
   "execution_count": 39,
   "id": "1a3c340b",
   "metadata": {},
   "outputs": [],
   "source": [
    "def update_captcha():\n",
    "    global captcha_text, image_path\n",
    "    captcha_text, image_path = generate_captcha()\n",
    "    image = Image.open(image_path)\n",
    "    photo = ImageTk.PhotoImage(image)\n",
    "    image_label.config(image=photo)\n",
    "    image_label.image = photo"
   ]
  },
  {
   "cell_type": "code",
   "execution_count": 40,
   "id": "0bb75921",
   "metadata": {},
   "outputs": [],
   "source": [
    "# Generate a CAPTCHA\n",
    "captcha_text, image_path = generate_captcha()"
   ]
  },
  {
   "cell_type": "code",
   "execution_count": 41,
   "id": "98c88b72",
   "metadata": {},
   "outputs": [
    {
     "data": {
      "text/plain": [
       "''"
      ]
     },
     "execution_count": 41,
     "metadata": {},
     "output_type": "execute_result"
    }
   ],
   "source": [
    "# Create the GUI window\n",
    "window = tk.Tk()\n",
    "window.title(\"CAPTCHA Test\")"
   ]
  },
  {
   "cell_type": "code",
   "execution_count": 42,
   "id": "f66aced9",
   "metadata": {},
   "outputs": [],
   "source": [
    "# Display the CAPTCHA image\n",
    "image = Image.open(image_path)\n",
    "photo = ImageTk.PhotoImage(image)\n",
    "image_label = tk.Label(window, image=photo)\n",
    "image_label.pack()"
   ]
  },
  {
   "cell_type": "code",
   "execution_count": 43,
   "id": "0507e94f",
   "metadata": {},
   "outputs": [],
   "source": [
    "# CAPTCHA input field\n",
    "entry = tk.Entry(window)\n",
    "entry.pack()"
   ]
  },
  {
   "cell_type": "code",
   "execution_count": 44,
   "id": "483d812f",
   "metadata": {},
   "outputs": [],
   "source": [
    "# CAPTCHA check button\n",
    "check_button = tk.Button(window, text=\"Check CAPTCHA\", command=check_captcha)\n",
    "check_button.pack()"
   ]
  },
  {
   "cell_type": "code",
   "execution_count": 45,
   "id": "35019984",
   "metadata": {},
   "outputs": [],
   "source": [
    "# Result label\n",
    "result_label = tk.Label(window, text=\"\")\n",
    "result_label.pack()"
   ]
  },
  {
   "cell_type": "code",
   "execution_count": 46,
   "id": "c1bbd0b9",
   "metadata": {},
   "outputs": [],
   "source": [
    "# Update CAPTCHA button\n",
    "update_button = tk.Button(window, text=\"New CAPTCHA\", command=update_captcha)\n",
    "update_button.pack()"
   ]
  },
  {
   "cell_type": "code",
   "execution_count": 47,
   "id": "b6155874",
   "metadata": {},
   "outputs": [],
   "source": [
    "# Start the GUI event loop\n",
    "window.mainloop()"
   ]
  }
 ],
 "metadata": {
  "kernelspec": {
   "display_name": "Python 3 (ipykernel)",
   "language": "python",
   "name": "python3"
  },
  "language_info": {
   "codemirror_mode": {
    "name": "ipython",
    "version": 3
   },
   "file_extension": ".py",
   "mimetype": "text/x-python",
   "name": "python",
   "nbconvert_exporter": "python",
   "pygments_lexer": "ipython3",
   "version": "3.9.13"
  }
 },
 "nbformat": 4,
 "nbformat_minor": 5
}
