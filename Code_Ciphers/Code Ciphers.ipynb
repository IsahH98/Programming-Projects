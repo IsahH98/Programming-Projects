{
 "cells": [
  {
   "cell_type": "code",
   "execution_count": 1,
   "id": "47d1781b",
   "metadata": {},
   "outputs": [],
   "source": [
    "def vigenere_encrypt(plaintext, key):\n",
    "    ciphertext = ''\n",
    "    key_index = 0\n",
    "    key = key.upper()\n",
    "\n",
    "    for char in plaintext:\n",
    "        if char.isalpha():\n",
    "            shift = ord(key[key_index]) - ord('A')\n",
    "            encrypted_char = chr((ord(char.upper()) - ord('A') + shift) % 26 + ord('A'))\n",
    "            ciphertext += encrypted_char\n",
    "            key_index = (key_index + 1) % len(key)\n",
    "        else:\n",
    "            ciphertext += char\n",
    "\n",
    "    return ciphertext\n",
    "\n",
    "def vigenere_decrypt(ciphertext, key):\n",
    "    plaintext = ''\n",
    "    key_index = 0\n",
    "    key = key.upper()\n",
    "\n",
    "    for char in ciphertext:\n",
    "        if char.isalpha():\n",
    "            shift = ord(key[key_index]) - ord('A')\n",
    "            decrypted_char = chr((ord(char.upper()) - ord('A') - shift) % 26 + ord('A'))\n",
    "            plaintext += decrypted_char\n",
    "            key_index = (key_index + 1) % len(key)\n",
    "        else:\n",
    "            plaintext += char\n",
    "\n",
    "    return plaintext\n"
   ]
  },
  {
   "cell_type": "code",
   "execution_count": 20,
   "id": "c938df0e",
   "metadata": {},
   "outputs": [
    {
     "name": "stdout",
     "output_type": "stream",
     "text": [
      "Encrypted message: RIJVS, DBMCXH! FYA YBI WYY?\n"
     ]
    }
   ],
   "source": [
    "# Example Vigenere Cipher\n",
    "plaintext = \"Hello, friend! How are you?\"\n",
    "key = \"KEY\"\n",
    "\n",
    "ciphertext = vigenere_encrypt(plaintext, key)\n",
    "print(\"Encrypted message:\", ciphertext)"
   ]
  },
  {
   "cell_type": "code",
   "execution_count": 21,
   "id": "f0ff4c8f",
   "metadata": {},
   "outputs": [
    {
     "name": "stdout",
     "output_type": "stream",
     "text": [
      "Decrypted message: HELLO, FRIEND! HOW ARE YOU?\n"
     ]
    }
   ],
   "source": [
    "decrypted_text = vigenere_decrypt(ciphertext, key)\n",
    "print(\"Decrypted message:\", decrypted_text)"
   ]
  },
  {
   "cell_type": "code",
   "execution_count": 2,
   "id": "49a84274",
   "metadata": {},
   "outputs": [],
   "source": [
    "def vernam_encrypt(plaintext, key):\n",
    "    ciphertext = ''\n",
    "    key = key.upper()\n",
    "\n",
    "    for i in range(len(plaintext)):\n",
    "        char = plaintext[i]\n",
    "        if char.isalpha():\n",
    "            shift = ord(key[i % len(key)]) - ord('A')\n",
    "            encrypted_char = chr((ord(char.upper()) - ord('A') + shift) % 26 + ord('A'))\n",
    "            ciphertext += encrypted_char\n",
    "        else:\n",
    "            ciphertext += char\n",
    "\n",
    "    return ciphertext\n",
    "\n",
    "def vernam_decrypt(ciphertext, key):\n",
    "    plaintext = ''\n",
    "    key = key.upper()\n",
    "\n",
    "    for i in range(len(ciphertext)):\n",
    "        char = ciphertext[i]\n",
    "        if char.isalpha():\n",
    "            shift = ord(key[i % len(key)]) - ord('A')\n",
    "            decrypted_char = chr((ord(char.upper()) - ord('A') - shift) % 26 + ord('A'))\n",
    "            plaintext += decrypted_char\n",
    "        else:\n",
    "            plaintext += char\n",
    "\n",
    "    return plaintext\n"
   ]
  },
  {
   "cell_type": "code",
   "execution_count": 24,
   "id": "8f02118f",
   "metadata": {},
   "outputs": [
    {
     "name": "stdout",
     "output_type": "stream",
     "text": [
      "Encrypted message: ZINCS, JPAIPU! QVCSX NSKU MF VYML GMVI\n"
     ]
    }
   ],
   "source": [
    "# Example Vigenere Cipher\n",
    "plaintext = \"Hello, friend! Great work on this code\"\n",
    "key = \"SECRETKEY\"\n",
    "\n",
    "ciphertext = vernam_encrypt(plaintext, key)\n",
    "print(\"Encrypted message:\", ciphertext)"
   ]
  },
  {
   "cell_type": "code",
   "execution_count": 25,
   "id": "9791e0b0",
   "metadata": {},
   "outputs": [
    {
     "name": "stdout",
     "output_type": "stream",
     "text": [
      "Decrypted message: HELLO, FRIEND! GREAT WORK ON THIS CODE\n"
     ]
    }
   ],
   "source": [
    "decrypted_text = vernam_decrypt(ciphertext, key)\n",
    "print(\"Decrypted message:\", decrypted_text)"
   ]
  },
  {
   "cell_type": "code",
   "execution_count": 3,
   "id": "91de4ef3",
   "metadata": {},
   "outputs": [],
   "source": [
    "def caesar_encrypt(plaintext, shift):\n",
    "    ciphertext = ''\n",
    "\n",
    "    for char in plaintext:\n",
    "        if char.isalpha():\n",
    "            encrypted_char = chr((ord(char.upper()) - ord('A') + shift) % 26 + ord('A'))\n",
    "            ciphertext += encrypted_char\n",
    "        else:\n",
    "            ciphertext += char\n",
    "\n",
    "    return ciphertext\n",
    "\n",
    "def caesar_decrypt(ciphertext, shift):\n",
    "    plaintext = ''\n",
    "\n",
    "    for char in ciphertext:\n",
    "        if char.isalpha():\n",
    "            decrypted_char = chr((ord(char.upper()) - ord('A') - shift) % 26 + ord('A'))\n",
    "            plaintext += decrypted_char\n",
    "        else:\n",
    "            plaintext += char\n",
    "\n",
    "    return plaintext\n"
   ]
  },
  {
   "cell_type": "code",
   "execution_count": 18,
   "id": "793f8acb",
   "metadata": {},
   "outputs": [
    {
     "name": "stdout",
     "output_type": "stream",
     "text": [
      "Encrypted message: KHOOR, IULHQG! PB QDPH LV ERE DQG L DP WKH EHVW FRGHU HYHU\n"
     ]
    }
   ],
   "source": [
    "# Example Caesar Cipher\n",
    "plaintext = \"Hello, friend! my name is Bob and i am the best coder ever\"\n",
    "shift = 3\n",
    "\n",
    "ciphertext = caesar_encrypt(plaintext, shift)\n",
    "print(\"Encrypted message:\", ciphertext)\n"
   ]
  },
  {
   "cell_type": "code",
   "execution_count": 19,
   "id": "509b555b",
   "metadata": {},
   "outputs": [
    {
     "name": "stdout",
     "output_type": "stream",
     "text": [
      "Decrypted message: HELLO, FRIEND! MY NAME IS BOB AND I AM THE BEST CODER EVER\n"
     ]
    }
   ],
   "source": [
    "decrypted_text = caesar_decrypt(ciphertext, shift)\n",
    "print(\"Decrypted message:\", decrypted_text)"
   ]
  }
 ],
 "metadata": {
  "kernelspec": {
   "display_name": "Python 3 (ipykernel)",
   "language": "python",
   "name": "python3"
  },
  "language_info": {
   "codemirror_mode": {
    "name": "ipython",
    "version": 3
   },
   "file_extension": ".py",
   "mimetype": "text/x-python",
   "name": "python",
   "nbconvert_exporter": "python",
   "pygments_lexer": "ipython3",
   "version": "3.9.13"
  }
 },
 "nbformat": 4,
 "nbformat_minor": 5
}
