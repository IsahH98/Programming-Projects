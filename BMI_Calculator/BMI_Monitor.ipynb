{
 "cells": [
  {
   "cell_type": "code",
   "execution_count": 3,
   "id": "319ecc45",
   "metadata": {},
   "outputs": [],
   "source": [
    "import tkinter as tk\n",
    "from PIL import Image, ImageTk\n",
    "import webbrowser\n",
    "from tkinter import messagebox\n",
    "import openpyxl"
   ]
  },
  {
   "cell_type": "code",
   "execution_count": 4,
   "id": "cf06afa0",
   "metadata": {},
   "outputs": [],
   "source": [
    "# Create or load the Excel workbook\n",
    "workbook = openpyxl.Workbook()\n",
    "try:\n",
    "    workbook = openpyxl.load_workbook(\"bmi_records.xlsx\")\n",
    "except FileNotFoundError:\n",
    "    workbook.save(\"bmi_records.xlsx\")"
   ]
  },
  {
   "cell_type": "code",
   "execution_count": 5,
   "id": "7f1e4e98",
   "metadata": {},
   "outputs": [],
   "source": [
    "# Function to open the BMI Category Advice page\n",
    "def show_category_advice():\n",
    "    category_advice_page = tk.Toplevel(window)\n",
    "    category_advice_page.title(\"Category Advice\")\n",
    "\n",
    "    # Opening text\n",
    "    opening_text = \"\"\"\n",
    "    Welcome to the BMI Category Advice page!\n",
    "    \n",
    "    Please select your BMI category to get specific advice and resources.\n",
    "    \"\"\"\n",
    "    opening_label = tk.Label(category_advice_page, text=opening_text, wraplength=300, justify=\"center\")\n",
    "    opening_label.pack(pady=10)\n",
    "\n",
    "    # Underweight category button\n",
    "    underweight_button = tk.Button(category_advice_page, text=\"Underweight\",\n",
    "                                   command=lambda: webbrowser.open(\n",
    "                                       \"https://www.medicalnewstoday.com/articles/321744#can-diet-help\"))\n",
    "    underweight_button.pack(pady=5)\n",
    "\n",
    "    # Normal weight category button\n",
    "    normal_weight_button = tk.Button(category_advice_page, text=\"Normal Weight\",\n",
    "                                     command=lambda: webbrowser.open(\n",
    "                                         \"https://www.livi.co.uk/your-health/5-simple-tips-for-a-healthy-bmi/\"))\n",
    "    normal_weight_button.pack(pady=5)\n",
    "\n",
    "    # Overweight category button\n",
    "    overweight_button = tk.Button(category_advice_page, text=\"Overweight\",\n",
    "                                  command=lambda: webbrowser.open(\n",
    "                                      \"https://www.everydayhealth.com/diet-nutrition/bmi/how-you-reduce-your-bmi-science-backed-steps/\"))\n",
    "    overweight_button.pack(pady=5)\n",
    "\n",
    "    # Obesity category button\n",
    "    obesity_button = tk.Button(category_advice_page, text=\"Obesity\",\n",
    "                               command=lambda: webbrowser.open(\"https://www.nhs.uk/conditions/obesity/treatment/\"))\n",
    "    obesity_button.pack(pady=5)\n",
    "\n",
    "    # Exit button\n",
    "    exit_button = tk.Button(category_advice_page, text=\"Exit\", command=category_advice_page.destroy)\n",
    "    exit_button.pack(side=\"bottom\", pady=10)"
   ]
  },
  {
   "cell_type": "code",
   "execution_count": 6,
   "id": "c51134d3",
   "metadata": {},
   "outputs": [],
   "source": [
    "# Function to display the BMI Calculator page\n",
    "def show_bmi_calculator():\n",
    "    bmi_calculator_page = tk.Toplevel(window)\n",
    "    bmi_calculator_page.title(\"BMI Calculator\")\n",
    "\n",
    "    # Create input fields\n",
    "    input_frame = tk.Frame(bmi_calculator_page)\n",
    "    input_frame.pack()\n",
    "\n",
    "    name_label = tk.Label(input_frame, text=\"Name:\")\n",
    "    name_label.grid(row=0, column=0, padx=10, pady=5)\n",
    "    name_entry = tk.Entry(input_frame)\n",
    "    name_entry.grid(row=0, column=1, padx=10, pady=5)\n",
    "\n",
    "    age_label = tk.Label(input_frame, text=\"Age:\")\n",
    "    age_label.grid(row=1, column=0, padx=10, pady=5)\n",
    "    age_entry = tk.Entry(input_frame)\n",
    "    age_entry.grid(row=1, column=1, padx=10, pady=5)\n",
    "\n",
    "    weight_label = tk.Label(input_frame, text=\"Weight (kg):\")\n",
    "    weight_label.grid(row=2, column=0, padx=10, pady=5)\n",
    "    weight_entry = tk.Entry(input_frame)\n",
    "    weight_entry.grid(row=2, column=1, padx=10, pady=5)\n",
    "\n",
    "    height_label = tk.Label(input_frame, text=\"Height (m):\")\n",
    "    height_label.grid(row=3, column=0, padx=10, pady=5)\n",
    "    height_entry = tk.Entry(input_frame)\n",
    "    height_entry.grid(row=3, column=1, padx=10, pady=5)\n",
    "\n",
    "    date_label = tk.Label(input_frame, text=\"Date:\")\n",
    "    date_label.grid(row=4, column=0, padx=10, pady=5)\n",
    "    date_entry = tk.Entry(input_frame)\n",
    "    date_entry.grid(row=4, column=1, padx=10, pady=5)\n",
    "\n",
    "    # Create the result label\n",
    "    result_label = tk.Label(bmi_calculator_page, text=\"\", font=(\"Arial\", 12))\n",
    "    result_label.pack(pady=10)\n",
    "\n",
    "        # Function to calculate BMI\n",
    "    def calculate_bmi():\n",
    "        weight = float(weight_entry.get())\n",
    "        height = float(height_entry.get())\n",
    "        bmi = weight / (height ** 2)\n",
    "\n",
    "        # Categorize BMI\n",
    "        category = \"\"\n",
    "        if bmi < 18.5:\n",
    "            category = \"Underweight\"\n",
    "        elif 18.5 <= bmi < 25:\n",
    "            category = \"Normal Weight\"\n",
    "        elif 25 <= bmi < 30:\n",
    "            category = \"Overweight\"\n",
    "        else:\n",
    "            category = \"Obesity\"\n",
    "\n",
    "        # Save BMI details to Excel\n",
    "        name = name_entry.get()\n",
    "\n",
    "        if name in workbook.sheetnames:\n",
    "            sheet = workbook[name]\n",
    "            last_row = sheet.max_row + 1\n",
    "        else:\n",
    "            sheet = workbook.create_sheet(name)\n",
    "            sheet[\"A1\"] = \"Date\"\n",
    "            sheet[\"B1\"] = \"Age\"\n",
    "            sheet[\"C1\"] = \"Weight\"\n",
    "            sheet[\"D1\"] = \"BMI\"\n",
    "            sheet[\"E1\"] = \"BMI Category\"\n",
    "            last_row = 2\n",
    "\n",
    "        sheet[f\"A{last_row}\"] = date_entry.get()\n",
    "        sheet[f\"B{last_row}\"] = age_entry.get()\n",
    "        sheet[f\"C{last_row}\"] = weight_entry.get()\n",
    "        sheet[f\"D{last_row}\"] = bmi\n",
    "        sheet[f\"E{last_row}\"] = category\n",
    "\n",
    "        workbook.save(\"bmi_records.xlsx\")\n",
    "\n",
    "        # Update the result label\n",
    "        result_text = f\"Result:\\nBMI: {bmi:.2f}\\nCategory: {category}\"\n",
    "        result_label.config(text=result_text)\n",
    "\n",
    "\n",
    "    # Calculate button\n",
    "    calculate_button = tk.Button(bmi_calculator_page, text=\"Calculate BMI\", command=calculate_bmi)\n",
    "    calculate_button.pack(pady=10)\n",
    "\n",
    "    # Result label\n",
    "    result_label = tk.Label(bmi_calculator_page, text=\"\", font=(\"Arial\", 12))\n",
    "    result_label.pack()\n",
    "\n",
    "    # Exit button\n",
    "    exit_button = tk.Button(bmi_calculator_page, text=\"Exit\", command=bmi_calculator_page.destroy)\n",
    "    exit_button.pack(side=\"bottom\", pady=10)\n"
   ]
  },
  {
   "cell_type": "code",
   "execution_count": 7,
   "id": "2f77df1d",
   "metadata": {},
   "outputs": [
    {
     "data": {
      "text/plain": [
       "''"
      ]
     },
     "execution_count": 7,
     "metadata": {},
     "output_type": "execute_result"
    }
   ],
   "source": [
    "# Create main window\n",
    "window = tk.Tk()\n",
    "window.title(\"BMI Calculator\")"
   ]
  },
  {
   "cell_type": "code",
   "execution_count": 8,
   "id": "12134fd0",
   "metadata": {},
   "outputs": [
    {
     "name": "stderr",
     "output_type": "stream",
     "text": [
      "C:\\Users\\ihassan\\AppData\\Local\\Temp\\ipykernel_35072\\998746583.py:4: DeprecationWarning: ANTIALIAS is deprecated and will be removed in Pillow 10 (2023-07-01). Use Resampling.LANCZOS instead.\n",
      "  opening_image = opening_image.resize((700, 400), Image.ANTIALIAS)\n"
     ]
    }
   ],
   "source": [
    "# Load and display the opening image\n",
    "try:\n",
    "    opening_image = Image.open(\"BMI_Chart.jpg\")\n",
    "    opening_image = opening_image.resize((700, 400), Image.ANTIALIAS)\n",
    "    opening_image = ImageTk.PhotoImage(opening_image)\n",
    "    image_label = tk.Label(window, image=opening_image)\n",
    "    image_label.pack(pady=10)\n",
    "except:\n",
    "    messagebox.showerror(\"BMI Calculator\", \"Failed to load the opening image.\")\n"
   ]
  },
  {
   "cell_type": "code",
   "execution_count": 9,
   "id": "65171f84",
   "metadata": {},
   "outputs": [],
   "source": [
    "# Opening text\n",
    "opening_text = \"\"\"\n",
    "Welcome to the BMI Calculator!\n",
    "\n",
    "BMI is used to categorize people’s weight. BMI charts are mainly used for working out the health of populations rather than individuals.\n",
    "\n",
    "Within a population, there will always be people who are at the extremes (have a high BMI or low BMI).\n",
    "\n",
    "A high or low BMI may be an indicator of poor diet, varying activity levels, or high stress. Just because someone has a ‘normal BMI’ does not mean that they are healthy.\n",
    "\n",
    "BMI doesn’t take account of body composition, for example, muscle, fat, bone density. Sex and other factors which can impact your weight can also lead to an inaccurate reading. As such, a BMI calculation is not a suitable measure for some people, including children and young people under 18, pregnant women, and athletes.\n",
    "\n",
    "Please select an option to proceed.\n",
    "\"\"\"\n",
    "opening_label = tk.Label(window, text=opening_text, wraplength=700, justify=\"center\")\n",
    "opening_label.pack()\n"
   ]
  },
  {
   "cell_type": "code",
   "execution_count": 10,
   "id": "5e7997b1",
   "metadata": {},
   "outputs": [],
   "source": [
    "# Create buttons on the opening page\n",
    "button_frame = tk.Frame(window)\n",
    "button_frame.pack()\n",
    "\n",
    "calculator_button = tk.Button(button_frame, text=\"BMI Calculator\", command=show_bmi_calculator)\n",
    "calculator_button.grid(row=0, column=0, padx=10, pady=5)\n",
    "\n",
    "advice_button = tk.Button(button_frame, text=\"Category Advice\", command=show_category_advice)\n",
    "advice_button.grid(row=0, column=1, padx=10, pady=5)"
   ]
  },
  {
   "cell_type": "code",
   "execution_count": 11,
   "id": "522cc73f",
   "metadata": {},
   "outputs": [],
   "source": [
    "# Exit button\n",
    "exit_button = tk.Button(window, text=\"Exit\", command=window.destroy)\n",
    "exit_button.pack(side=\"bottom\", pady=10)"
   ]
  },
  {
   "cell_type": "code",
   "execution_count": 12,
   "id": "5639f98e",
   "metadata": {},
   "outputs": [],
   "source": [
    "# Start the main loop\n",
    "window.mainloop()"
   ]
  }
 ],
 "metadata": {
  "kernelspec": {
   "display_name": "Python 3 (ipykernel)",
   "language": "python",
   "name": "python3"
  },
  "language_info": {
   "codemirror_mode": {
    "name": "ipython",
    "version": 3
   },
   "file_extension": ".py",
   "mimetype": "text/x-python",
   "name": "python",
   "nbconvert_exporter": "python",
   "pygments_lexer": "ipython3",
   "version": "3.9.13"
  }
 },
 "nbformat": 4,
 "nbformat_minor": 5
}
