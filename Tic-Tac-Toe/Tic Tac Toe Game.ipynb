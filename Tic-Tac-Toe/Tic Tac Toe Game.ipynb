{
 "cells": [
  {
   "cell_type": "code",
   "execution_count": 2,
   "id": "6dc19426",
   "metadata": {},
   "outputs": [
    {
     "name": "stdout",
     "output_type": "stream",
     "text": [
      "pygame 2.2.0 (SDL 2.0.22, Python 3.9.13)\n",
      "Hello from the pygame community. https://www.pygame.org/contribute.html\n"
     ]
    }
   ],
   "source": [
    "import pygame\n",
    "import math"
   ]
  },
  {
   "cell_type": "code",
   "execution_count": 3,
   "id": "cacc2516",
   "metadata": {},
   "outputs": [],
   "source": [
    "# Creating the Screen\n",
    "WIDTH = 500\n",
    "ROWS = 3\n",
    "win = pygame.display.set_mode((WIDTH, WIDTH))\n",
    "pygame.display.set_caption(\"TicTacToe Game\")"
   ]
  },
  {
   "cell_type": "code",
   "execution_count": 4,
   "id": "f826b711",
   "metadata": {},
   "outputs": [
    {
     "data": {
      "text/plain": [
       "(5, 0)"
      ]
     },
     "execution_count": 4,
     "metadata": {},
     "output_type": "execute_result"
    }
   ],
   "source": [
    "pygame.init()"
   ]
  },
  {
   "cell_type": "code",
   "execution_count": 5,
   "id": "c1e070d8",
   "metadata": {},
   "outputs": [],
   "source": [
    "# Colors\n",
    "WHITE = (255, 255, 255)\n",
    "BLACK = (0, 0, 0)\n",
    "GRAY = (200, 200, 200)\n",
    "RED = (255, 0, 0)\n",
    "BLUE = (0, 0, 255)\n",
    "\n",
    "# Fonts\n",
    "pygame.font.init()\n",
    "END_FONT = pygame.font.SysFont('arial', 50)"
   ]
  },
  {
   "cell_type": "code",
   "execution_count": 6,
   "id": "b515142b",
   "metadata": {},
   "outputs": [],
   "source": [
    "# X & O Images\n",
    "X_IMAGE = pygame.transform.scale(pygame.image.load(\"x2.png\"), (100, 100))\n",
    "O_IMAGE = pygame.transform.scale(pygame.image.load(\"o2.png\"), (150, 150))"
   ]
  },
  {
   "cell_type": "code",
   "execution_count": 7,
   "id": "bf52365a",
   "metadata": {},
   "outputs": [],
   "source": [
    "# dDrawing the Grid\n",
    "def draw_grid():\n",
    "    gap = WIDTH // ROWS\n",
    "\n",
    "    # Starting points\n",
    "    x = 0\n",
    "    y = 0\n",
    "\n",
    "    for i in range(ROWS):\n",
    "        x = i * gap\n",
    "\n",
    "        pygame.draw.line(win, BLACK, (x, 0), (x, WIDTH), 3)\n",
    "        pygame.draw.line(win, BLACK, (0, x), (WIDTH, x), 3)"
   ]
  },
  {
   "cell_type": "code",
   "execution_count": 8,
   "id": "a4135d0e",
   "metadata": {},
   "outputs": [],
   "source": [
    "def initialize_grid():\n",
    "    dis_to_cen = WIDTH // ROWS // 2\n",
    "\n",
    "    # Initializing the array\n",
    "    game_array = [[None, None, None], [None, None, None], [None, None, None]]\n",
    "\n",
    "    for i in range(len(game_array)):\n",
    "        for j in range(len(game_array[i])):\n",
    "            x = dis_to_cen * (2 * j + 1)\n",
    "            y = dis_to_cen * (2 * i + 1)\n",
    "\n",
    "            # Adding centre coordinates\n",
    "            game_array[i][j] = (x, y, \"\", True)\n",
    "\n",
    "    return game_array"
   ]
  },
  {
   "cell_type": "code",
   "execution_count": 9,
   "id": "a5a9eeac",
   "metadata": {},
   "outputs": [],
   "source": [
    "def click(game_array):\n",
    "    global x_turn, o_turn, images\n",
    "\n",
    "    # Mouse position\n",
    "    m_x, m_y = pygame.mouse.get_pos()\n",
    "\n",
    "    for i in range(len(game_array)):\n",
    "        for j in range(len(game_array[i])):\n",
    "            x, y, char, can_play = game_array[i][j]\n",
    "\n",
    "            # Distance between mouse and the centre of the square\n",
    "            dis = math.sqrt((x - m_x) ** 2 + (y - m_y) ** 2)\n",
    "\n",
    "            # If it's inside the square\n",
    "            if dis < WIDTH // ROWS // 2 and can_play:\n",
    "                if x_turn:  # If it's X's turn\n",
    "                    images.append((x, y, X_IMAGE))\n",
    "                    x_turn = False\n",
    "                    o_turn = True\n",
    "                    game_array[i][j] = (x, y, 'x', False)\n",
    "\n",
    "                elif o_turn:  # If it's O's turn\n",
    "                    images.append((x, y, O_IMAGE))\n",
    "                    x_turn = True\n",
    "                    o_turn = False\n",
    "                    game_array[i][j] = (x, y, 'o', False)"
   ]
  },
  {
   "cell_type": "code",
   "execution_count": 10,
   "id": "a982ea74",
   "metadata": {},
   "outputs": [],
   "source": [
    "# Checking if someone has won\n",
    "def has_won(game_array):\n",
    "    # Checking rows\n",
    "    for row in range(len(game_array)):\n",
    "        if (game_array[row][0][2] == game_array[row][1][2] == game_array[row][2][2]) and game_array[row][0][2] != \"\":\n",
    "            display_message(game_array[row][0][2].upper() + \" has won!\")\n",
    "            return True\n",
    "\n",
    "    # Checking columns\n",
    "    for col in range(len(game_array)):\n",
    "        if (game_array[0][col][2] == game_array[1][col][2] == game_array[2][col][2]) and game_array[0][col][2] != \"\":\n",
    "            display_message(game_array[0][col][2].upper() + \" has won!\")\n",
    "            return True\n",
    "\n",
    "    # Checking main diagonal\n",
    "    if (game_array[0][0][2] == game_array[1][1][2] == game_array[2][2][2]) and game_array[0][0][2] != \"\":\n",
    "        display_message(game_array[0][0][2].upper() + \" has won!\")\n",
    "        return True\n",
    "\n",
    "    # Checking reverse diagonal\n",
    "    if (game_array[0][2][2] == game_array[1][1][2] == game_array[2][0][2]) and game_array[0][2][2] != \"\":\n",
    "        display_message(game_array[0][2][2].upper() + \" has won!\")\n",
    "        return True\n",
    "\n",
    "    return False\n"
   ]
  },
  {
   "cell_type": "code",
   "execution_count": 11,
   "id": "2b2b1aae",
   "metadata": {},
   "outputs": [],
   "source": [
    "def has_drawn(game_array):\n",
    "    for i in range(len(game_array)):\n",
    "        for j in range(len(game_array[i])):\n",
    "            if game_array[i][j][2] == \"\":\n",
    "                return False\n",
    "\n",
    "    display_message(\"It's a draw!\")\n",
    "    return True"
   ]
  },
  {
   "cell_type": "code",
   "execution_count": 15,
   "id": "b2cf8e05",
   "metadata": {},
   "outputs": [],
   "source": [
    "def display_message(content):\n",
    "    pygame.time.delay(500)\n",
    "    win.fill(WHITE)\n",
    "    end_text = END_FONT.render(content, 1, BLACK)\n",
    "    win.blit(end_text, ((WIDTH - end_text.get_width()) // 2, (WIDTH - end_text.get_height()) // 2))\n",
    "    pygame.display.update()\n",
    "    pygame.time.delay(3000)"
   ]
  },
  {
   "cell_type": "code",
   "execution_count": 13,
   "id": "062f9e8a",
   "metadata": {},
   "outputs": [],
   "source": [
    "def render():\n",
    "    win.fill(WHITE)\n",
    "    draw_grid()\n",
    "\n",
    "    # Drawing X's and O's\n",
    "    for image in images:\n",
    "        x, y, IMAGE = image\n",
    "        win.blit(IMAGE, (x - IMAGE.get_width() // 2, y - IMAGE.get_height() // 2))\n",
    "\n",
    "    pygame.display.update()"
   ]
  },
  {
   "cell_type": "code",
   "execution_count": 14,
   "id": "02f2c647",
   "metadata": {},
   "outputs": [
    {
     "ename": "error",
     "evalue": "display Surface quit",
     "output_type": "error",
     "traceback": [
      "\u001b[1;31m---------------------------------------------------------------------------\u001b[0m",
      "\u001b[1;31merror\u001b[0m                                     Traceback (most recent call last)",
      "\u001b[1;32m~\\AppData\\Local\\Temp\\ipykernel_19464\\1615536671.py\u001b[0m in \u001b[0;36m<module>\u001b[1;34m\u001b[0m\n\u001b[0;32m     28\u001b[0m \u001b[1;32mwhile\u001b[0m \u001b[1;32mTrue\u001b[0m\u001b[1;33m:\u001b[0m\u001b[1;33m\u001b[0m\u001b[1;33m\u001b[0m\u001b[0m\n\u001b[0;32m     29\u001b[0m     \u001b[1;32mif\u001b[0m \u001b[0m__name__\u001b[0m \u001b[1;33m==\u001b[0m \u001b[1;34m'__main__'\u001b[0m\u001b[1;33m:\u001b[0m\u001b[1;33m\u001b[0m\u001b[1;33m\u001b[0m\u001b[0m\n\u001b[1;32m---> 30\u001b[1;33m         \u001b[0mmain\u001b[0m\u001b[1;33m(\u001b[0m\u001b[1;33m)\u001b[0m\u001b[1;33m\u001b[0m\u001b[1;33m\u001b[0m\u001b[0m\n\u001b[0m",
      "\u001b[1;32m~\\AppData\\Local\\Temp\\ipykernel_19464\\1615536671.py\u001b[0m in \u001b[0;36mmain\u001b[1;34m()\u001b[0m\n\u001b[0;32m     20\u001b[0m                 \u001b[0mclick\u001b[0m\u001b[1;33m(\u001b[0m\u001b[0mgame_array\u001b[0m\u001b[1;33m)\u001b[0m\u001b[1;33m\u001b[0m\u001b[1;33m\u001b[0m\u001b[0m\n\u001b[0;32m     21\u001b[0m \u001b[1;33m\u001b[0m\u001b[0m\n\u001b[1;32m---> 22\u001b[1;33m         \u001b[0mrender\u001b[0m\u001b[1;33m(\u001b[0m\u001b[1;33m)\u001b[0m\u001b[1;33m\u001b[0m\u001b[1;33m\u001b[0m\u001b[0m\n\u001b[0m\u001b[0;32m     23\u001b[0m \u001b[1;33m\u001b[0m\u001b[0m\n\u001b[0;32m     24\u001b[0m         \u001b[1;32mif\u001b[0m \u001b[0mhas_won\u001b[0m\u001b[1;33m(\u001b[0m\u001b[0mgame_array\u001b[0m\u001b[1;33m)\u001b[0m \u001b[1;32mor\u001b[0m \u001b[0mhas_drawn\u001b[0m\u001b[1;33m(\u001b[0m\u001b[0mgame_array\u001b[0m\u001b[1;33m)\u001b[0m\u001b[1;33m:\u001b[0m\u001b[1;33m\u001b[0m\u001b[1;33m\u001b[0m\u001b[0m\n",
      "\u001b[1;32m~\\AppData\\Local\\Temp\\ipykernel_19464\\108817113.py\u001b[0m in \u001b[0;36mrender\u001b[1;34m()\u001b[0m\n\u001b[0;32m      1\u001b[0m \u001b[1;32mdef\u001b[0m \u001b[0mrender\u001b[0m\u001b[1;33m(\u001b[0m\u001b[1;33m)\u001b[0m\u001b[1;33m:\u001b[0m\u001b[1;33m\u001b[0m\u001b[1;33m\u001b[0m\u001b[0m\n\u001b[1;32m----> 2\u001b[1;33m     \u001b[0mwin\u001b[0m\u001b[1;33m.\u001b[0m\u001b[0mfill\u001b[0m\u001b[1;33m(\u001b[0m\u001b[0mWHITE\u001b[0m\u001b[1;33m)\u001b[0m\u001b[1;33m\u001b[0m\u001b[1;33m\u001b[0m\u001b[0m\n\u001b[0m\u001b[0;32m      3\u001b[0m     \u001b[0mdraw_grid\u001b[0m\u001b[1;33m(\u001b[0m\u001b[1;33m)\u001b[0m\u001b[1;33m\u001b[0m\u001b[1;33m\u001b[0m\u001b[0m\n\u001b[0;32m      4\u001b[0m \u001b[1;33m\u001b[0m\u001b[0m\n\u001b[0;32m      5\u001b[0m     \u001b[1;31m# Drawing X's and O's\u001b[0m\u001b[1;33m\u001b[0m\u001b[1;33m\u001b[0m\u001b[0m\n",
      "\u001b[1;31merror\u001b[0m: display Surface quit"
     ]
    }
   ],
   "source": [
    "# Main Game Play\n",
    "def main():\n",
    "    global x_turn, o_turn, images, draw\n",
    "\n",
    "    images = []\n",
    "    draw = False\n",
    "\n",
    "    run = True\n",
    "\n",
    "    x_turn = True\n",
    "    o_turn = False\n",
    "\n",
    "    game_array = initialize_grid()\n",
    "\n",
    "    while run:\n",
    "        for event in pygame.event.get():\n",
    "            if event.type == pygame.QUIT:\n",
    "                pygame.quit()\n",
    "            if event.type == pygame.MOUSEBUTTONDOWN:\n",
    "                click(game_array)\n",
    "\n",
    "        render()\n",
    "\n",
    "        if has_won(game_array) or has_drawn(game_array):\n",
    "            run = False\n",
    "\n",
    "\n",
    "while True:\n",
    "    if __name__ == '__main__':\n",
    "        main()"
   ]
  }
 ],
 "metadata": {
  "kernelspec": {
   "display_name": "Python 3 (ipykernel)",
   "language": "python",
   "name": "python3"
  },
  "language_info": {
   "codemirror_mode": {
    "name": "ipython",
    "version": 3
   },
   "file_extension": ".py",
   "mimetype": "text/x-python",
   "name": "python",
   "nbconvert_exporter": "python",
   "pygments_lexer": "ipython3",
   "version": "3.9.13"
  }
 },
 "nbformat": 4,
 "nbformat_minor": 5
}
